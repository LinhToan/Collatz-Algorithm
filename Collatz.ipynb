{
 "cells": [
  {
   "cell_type": "code",
   "execution_count": 10,
   "id": "48ccb149-f566-4228-bcad-7cfc973c0769",
   "metadata": {},
   "outputs": [],
   "source": [
    "# This function will take in an integer and run the Collatz algorithm on it.\n",
    "# If the input is even, divide by 2 until we reach 2.\n",
    "# If the input is odd, multiply by 3 and add 1, then run the function again with the resulting integer.\n",
    "# No matter what our initial integer is, we should eventually reach 1.\n",
    "def collatz(n):\n",
    "    # Recursion seems to be the most intuitive way to do this.\n",
    "    # Base case: n is 1.\n",
    "    print(n)\n",
    "    if n == 1:\n",
    "        return 1\n",
    "    else: # Recursive step\n",
    "        if n % 2 == 0:\n",
    "            return collatz(n//2)\n",
    "        else:\n",
    "            return collatz(3*n+1)"
   ]
  },
  {
   "cell_type": "code",
   "execution_count": 13,
   "id": "ada0c97c-6d1b-46be-8a9b-a492fb7941cd",
   "metadata": {},
   "outputs": [
    {
     "name": "stdout",
     "output_type": "stream",
     "text": [
      "3\n",
      "10\n",
      "5\n",
      "16\n",
      "8\n",
      "4\n",
      "2\n",
      "1\n"
     ]
    },
    {
     "data": {
      "text/plain": [
       "1"
      ]
     },
     "execution_count": 13,
     "metadata": {},
     "output_type": "execute_result"
    }
   ],
   "source": [
    "collatz(3)"
   ]
  }
 ],
 "metadata": {
  "kernelspec": {
   "display_name": "Python 3",
   "language": "python",
   "name": "python3"
  },
  "language_info": {
   "codemirror_mode": {
    "name": "ipython",
    "version": 3
   },
   "file_extension": ".py",
   "mimetype": "text/x-python",
   "name": "python",
   "nbconvert_exporter": "python",
   "pygments_lexer": "ipython3",
   "version": "3.8.8"
  }
 },
 "nbformat": 4,
 "nbformat_minor": 5
}
